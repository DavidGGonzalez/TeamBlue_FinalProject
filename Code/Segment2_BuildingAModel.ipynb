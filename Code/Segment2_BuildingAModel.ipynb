{
 "cells": [
  {
   "cell_type": "markdown",
   "id": "8a3856f1",
   "metadata": {},
   "source": [
    "## Segment 2 "
   ]
  },
  {
   "cell_type": "markdown",
   "id": "4cfdd4b1",
   "metadata": {},
   "source": [
    "## Import required libraries"
   ]
  },
  {
   "cell_type": "code",
   "execution_count": null,
   "id": "418b73a6",
   "metadata": {},
   "outputs": [],
   "source": [
    "import pandas as pd\n",
    "import os\n",
    "from pathlib import Path\n",
    "import matplotlib.pyplot as plt\n",
    "from sklearn.linear_model import LinearRegression\n",
    "from collections import Counter\n",
    "%matplotlib inline\n",
    "from sklearn.preprocessing import StandardScaler,OneHotEncoder\n",
    "from sklearn.model_selection import train_test_split\n",
    "import warnings\n",
    "warnings.filterwarnings(\"ignore\")\n",
    "import numpy as np\n",
    "import seaborn as sns"
   ]
  },
  {
   "cell_type": "markdown",
   "id": "c4679866",
   "metadata": {},
   "source": [
    "## Import Data"
   ]
  },
  {
   "cell_type": "code",
   "execution_count": null,
   "id": "1e13c311",
   "metadata": {
    "scrolled": true
   },
   "outputs": [],
   "source": [
    "file_path = \"../Data/Speed Dating Data.csv\"\n",
    "df = pd.read_csv(file_path, encoding=\"ISO-8859-1\")\n",
    "df.columns[0]"
   ]
  },
  {
   "cell_type": "code",
   "execution_count": null,
   "id": "055ebfdd",
   "metadata": {},
   "outputs": [],
   "source": [
    "for col in df.columns: \n",
    "    print(col)"
   ]
  },
  {
   "cell_type": "markdown",
   "id": "7a6b96b9",
   "metadata": {},
   "source": [
    "### Machine Learning: Supervised\n",
    "Using data such age, education level, race, religion, zipcode, income, goal, date frequency, along with their survey evaluation, we will try to predict if 2 persons could match in a speed dating format.\n",
    "\n",
    "### Known Category\n",
    "\"Match\" vs. \"Not Match\""
   ]
  },
  {
   "cell_type": "markdown",
   "id": "a0cb8796",
   "metadata": {},
   "source": [
    "### Data Exploration\n",
    " Visualize and Explore the matches, gender and age distribution for the data"
   ]
  },
  {
   "cell_type": "markdown",
   "id": "b622ee16",
   "metadata": {},
   "source": [
    " This data frame is then used for further analysis and model building. The data consists of 8000 rows and 195 column.\n"
   ]
  },
  {
   "cell_type": "code",
   "execution_count": null,
   "id": "d5cfa0e9",
   "metadata": {},
   "outputs": [],
   "source": [
    "pd.set_option('max_columns', None)\n",
    "df.head()"
   ]
  },
  {
   "cell_type": "code",
   "execution_count": null,
   "id": "a441523f",
   "metadata": {
    "scrolled": true
   },
   "outputs": [],
   "source": [
    "df['gender'].value_counts().plot(kind='bar')\n",
    "plt.xticks(rotation='horizontal')\n",
    "plt.ylabel('Count')\n",
    "plt.xlabel =(\"Male = 1, Female = 0\" )\n",
    "plt.title('Gender Distribution', fontsize = 16)\n",
    "plt.show()"
   ]
  },
  {
   "cell_type": "markdown",
   "id": "8879102e",
   "metadata": {},
   "source": [
    "Genders are equally distributed and no bias is needed"
   ]
  },
  {
   "cell_type": "markdown",
   "id": "471113f9",
   "metadata": {},
   "source": [
    "For fun we can see that there are more not matches than there are matches from our speed dating data experiment. "
   ]
  },
  {
   "cell_type": "code",
   "execution_count": null,
   "id": "20f5f9bf",
   "metadata": {},
   "outputs": [],
   "source": [
    "# Visualize the matches based on gender\n",
    "sns.countplot(x=\"match\", hue=\"gender\", data = df)"
   ]
  },
  {
   "cell_type": "code",
   "execution_count": null,
   "id": "96f83a84",
   "metadata": {
    "scrolled": true
   },
   "outputs": [],
   "source": [
    "# age distribution of participants\n",
    "age = df[np.isfinite(df['age'])]['age']\n",
    "plt.hist(age.values)\n",
    "plt.xlabel= ('age')\n",
    "plt.ylabel('Count')\n",
    "plt.title('Age Distribution', fontsize = 16)"
   ]
  },
  {
   "cell_type": "markdown",
   "id": "27271adf",
   "metadata": {},
   "source": [
    "We see the highest participants are in their mid-twenties to early thirties."
   ]
  },
  {
   "cell_type": "markdown",
   "id": "655d4211",
   "metadata": {},
   "source": []
  },
  {
   "cell_type": "code",
   "execution_count": null,
   "id": "ee5e28ea",
   "metadata": {},
   "outputs": [],
   "source": [
    "# Visualize data to see how many decisions were yes or no. \n",
    "# 0 = no  and 1 = yes \n",
    "sns.countplot(x='dec', data=df)"
   ]
  },
  {
   "cell_type": "markdown",
   "id": "70c0e3a9",
   "metadata": {},
   "source": [
    "We see there are more \"0\" decisions made for a match than \"1\" decisions.\n",
    "\n",
    "\"0\" meaing no and \"1 meaning yes. This makes sense being we know from previous chart that there were more \"0\"(no) matches than \"1\" (yes) matches. \n",
    "\n",
    "The dec variable is the participants decision based on if they would like a \"match\" or \"not\" with paired partner. Furthering our exploration we know that each decision entered is scored with based on individual scores on the 6 following attributes (attr, sinc, intel, fun, amb, shar). \n",
    "\n"
   ]
  },
  {
   "cell_type": "markdown",
   "id": "75c04dda",
   "metadata": {},
   "source": [
    "### Data Preprocessing\n",
    "#### Data Cleaning \n",
    "We simplified the dataset by droping unwanted columns and creating a new dataframe with the data features we needed to answer the question or perform more analysis on. \n",
    "\n",
    "\"Can a machine learning model help in predicting and/or imprving the speed dating process?\"\n",
    "\n",
    "\n",
    "\n",
    "\n",
    "In order for us to explore that to be true or false we took this question and decided which data decides whether or not a participant is viewed as a match or not.\n",
    "\n",
    "We will use this data as our Input data to predict the output of Match or No Match.\n",
    "\n",
    "Note: we know from the data that the dec attribute is the score given based on the 6 attributes, which are attractiveness, sincerity, intelligence, fun, ambitiousness and shared interests. The like variable is an overall rating and the dec variable is obvious of if  the result of experiment ends in a match or not. "
   ]
  },
  {
   "cell_type": "markdown",
   "id": "df946437",
   "metadata": {},
   "source": [
    "Lets Create a Simplier Dataset of just the data we need for this analysis. "
   ]
  },
  {
   "cell_type": "code",
   "execution_count": null,
   "id": "fddb9ae9",
   "metadata": {},
   "outputs": [],
   "source": [
    "# Simplify the  Dataset \n",
    "date_df = df[[\"gender\", \"age\",\"income\",\"race\", \"career\",\"dec\",\"attr\",\"sinc\", \"intel\",\"fun\",\"amb\",\"shar\",\"like\", \"match\"]]\n",
    "\n",
    "# Check All Columns and Display to see them\n",
    "# View the new dataset/dataframe\n",
    "pd.set_option('max_columns', None)\n",
    "date_df.head()\n"
   ]
  },
  {
   "cell_type": "code",
   "execution_count": null,
   "id": "ebb8b843",
   "metadata": {},
   "outputs": [],
   "source": [
    "#Looking at how dec influences a match\n",
    "sns.boxplot(x=\"dec\", y='match', data=date_df)"
   ]
  },
  {
   "cell_type": "markdown",
   "id": "949c8144",
   "metadata": {},
   "source": [
    "Analysing the data visually to show how data is scattered. "
   ]
  },
  {
   "cell_type": "code",
   "execution_count": null,
   "id": "06ab641c",
   "metadata": {},
   "outputs": [],
   "source": [
    "# Analysing the new dataset visually with boxplot\n",
    "sns.boxplot(data = date_df, width=0.5, fliersize = 5)\n",
    "sns.set(rc={'figure.figsize':(10,10)})"
   ]
  },
  {
   "cell_type": "code",
   "execution_count": null,
   "id": "0514903b",
   "metadata": {},
   "outputs": [],
   "source": [
    "date_df.shape"
   ]
  },
  {
   "cell_type": "markdown",
   "id": "3d25dda4",
   "metadata": {},
   "source": [
    " Data Cleaning continued by checking to see how many null values are in each column."
   ]
  },
  {
   "cell_type": "code",
   "execution_count": null,
   "id": "13451357",
   "metadata": {},
   "outputs": [],
   "source": [
    "date_df.isnull().sum()"
   ]
  },
  {
   "cell_type": "markdown",
   "id": "616a66c4",
   "metadata": {},
   "source": [
    "We see several have missing values but we see the income attribute has 4099 missing datapoints, which is half of the entire data so will drop the income column. By dropping this column it won't affect the dataset's integrity. We can work with the others by droping the rows that contain missing values."
   ]
  },
  {
   "cell_type": "code",
   "execution_count": null,
   "id": "e70f4380",
   "metadata": {
    "scrolled": false
   },
   "outputs": [],
   "source": [
    "date_df = date_df.drop('income',axis=1)\n",
    "date_df"
   ]
  },
  {
   "cell_type": "markdown",
   "id": "393fe031",
   "metadata": {},
   "source": [
    "Data Cleaning continued by checking datatypes, null values and unique values."
   ]
  },
  {
   "cell_type": "code",
   "execution_count": null,
   "id": "b70e396a",
   "metadata": {},
   "outputs": [],
   "source": [
    "date_df.dtypes"
   ]
  },
  {
   "cell_type": "code",
   "execution_count": null,
   "id": "883eff7f",
   "metadata": {},
   "outputs": [],
   "source": [
    "# Drop the career attribute as it is an object and not needed to predict what is scored\n",
    "date_df = date_df.drop(\"career\", axis=1)"
   ]
  },
  {
   "cell_type": "code",
   "execution_count": null,
   "id": "bac2a6cf",
   "metadata": {
    "scrolled": true
   },
   "outputs": [],
   "source": [
    "# Drop all rows with null values \n",
    "date_df = date_df.dropna( axis=0, how='any', thresh=None, subset=None, inplace=False)\n",
    "date_df.isnull().sum()"
   ]
  },
  {
   "cell_type": "markdown",
   "id": "dd6e9022",
   "metadata": {},
   "source": [
    "We now have a dataframe with no missing values and is numerical and are ready to proceed in our classification model process"
   ]
  },
  {
   "cell_type": "code",
   "execution_count": null,
   "id": "f5e6ccf3",
   "metadata": {},
   "outputs": [],
   "source": [
    "date_df.nunique()"
   ]
  },
  {
   "cell_type": "code",
   "execution_count": null,
   "id": "c607b171",
   "metadata": {},
   "outputs": [],
   "source": [
    "date_df.shape"
   ]
  },
  {
   "cell_type": "markdown",
   "id": "78557814",
   "metadata": {},
   "source": [
    "We see that our datatypes are all numerical and we see the unique values for each attribute. \n",
    "\n",
    "gender has 2 unique values, 1 (male) and 0 (female) \n",
    "\n",
    "age has 22 different values \n",
    "\n",
    "dec has 2 unique values, 1 (yes wants to be matched) and 0 (no does not want to be matched) \n",
    "\n",
    "The following are unique due to the rating scale of  1-10  for each attribute.\n",
    "\n",
    "\"attr\"(attractive),\n",
    "\"sin\" (sincere), \n",
    "\"int\"(intelligent),\n",
    "fun, \n",
    "\"amb\"(ambitious), \n",
    "\"shar\"( shared interests) \n",
    "\n",
    "like is the overall rating on participant\n",
    "\n",
    "match has 2 unique values, 0 (No match) and 1 (Match)"
   ]
  },
  {
   "cell_type": "markdown",
   "id": "143f56ab",
   "metadata": {},
   "source": [
    "### Visualize Correlation  to show the correlation between two variables, we looked at the 6 characteristics"
   ]
  },
  {
   "cell_type": "code",
   "execution_count": null,
   "id": "48d01801",
   "metadata": {
    "scrolled": false
   },
   "outputs": [],
   "source": [
    "# To find the correlation among the 6 attributes that are the deciding factor on if it is a match or not \n",
    "corr_df = pd.DataFrame(date_df)\n",
    "corr = date_df.corr().round(3)\n",
    "print(corr)"
   ]
  },
  {
   "cell_type": "code",
   "execution_count": null,
   "id": "249b4217",
   "metadata": {},
   "outputs": [],
   "source": [
    "import plotly.express as px\n",
    "fig = px.imshow(corr)\n",
    "fig.show()"
   ]
  },
  {
   "cell_type": "markdown",
   "id": "c7295753",
   "metadata": {},
   "source": [
    "The correlation coefficients along the diagonal of the table are all equal to 1 because each variable is perfectly correlated with itself.The others are close but not past .75. Also shows me that age and race have no real correlation to the other attributes. we will drop age and race as a feature. We also see that dec has high correlation to match because we know the dec is the participants decision based on the 6 characteristics if they want to be matched or not. Note: that both participants have to decide yes for there to be a match. "
   ]
  },
  {
   "cell_type": "code",
   "execution_count": null,
   "id": "7ed4cc29",
   "metadata": {},
   "outputs": [],
   "source": [
    "# Drop Age\n",
    "date_df = date_df.drop(\"age\", axis=1)\n"
   ]
  },
  {
   "cell_type": "markdown",
   "id": "92042019",
   "metadata": {},
   "source": [
    "Summary Statistics of both female and male data"
   ]
  },
  {
   "cell_type": "code",
   "execution_count": null,
   "id": "5c4efbb2",
   "metadata": {},
   "outputs": [],
   "source": [
    "import numpy as np\n",
    "#Seperate females and view a summary of the females ratings for decision making.. \n",
    "females = date_df.loc[date_df[\"gender\"]==0,['gender','dec','attr','race',\n",
    "                'shar','fun','amb','sinc','intel']]\n",
    "print(females.describe())"
   ]
  },
  {
   "cell_type": "markdown",
   "id": "21402002",
   "metadata": {},
   "source": [
    "From Summary of the female ratings for decision making we can see that we have a mean of \"dec\" as .37 This means that a decison of wanting to be matched only occurs between 37% of participant pairs. attr, shar, fun, amb, sinc, and intel correspond to the average of each participants and partners’ ratings of one another. Which we know from our data is 1-10 1 being awful and 10 being great. "
   ]
  },
  {
   "cell_type": "markdown",
   "id": "67587d2c",
   "metadata": {},
   "source": [
    "Lets now look at the Males."
   ]
  },
  {
   "cell_type": "code",
   "execution_count": null,
   "id": "a1f36ef2",
   "metadata": {},
   "outputs": [],
   "source": [
    "# Seperate genders\n",
    "males = date_df.loc[date_df[\"gender\"]==1,['gender','dec','attr','race',\n",
    "                'shar','fun','amb','sinc','intel']]\n",
    "print(males.describe())"
   ]
  },
  {
   "cell_type": "markdown",
   "id": "e8596310",
   "metadata": {},
   "source": [
    "From Summary of the male ratings for decision making we can see that we have a mean of \"dec\" as .48 This means that a decison of wanting to be matched only occurs between 48% of male participants. attr, shar, fun, amb, sinc, and intel correspond to the average of each participants and partners’ ratings of one another. Which we know from our data is 1-10 1 being awful and 10 being great. "
   ]
  },
  {
   "cell_type": "code",
   "execution_count": null,
   "id": "d99200e4",
   "metadata": {},
   "outputs": [],
   "source": [
    "# Visualize the matches based on each race\n",
    "sns.countplot(x=\"match\", hue=\"race\", data = date_df)"
   ]
  },
  {
   "cell_type": "markdown",
   "id": "aaffbed1",
   "metadata": {},
   "source": [
    "We have data prepared and analysed,  Next step is Feature Selection must select the X and the y"
   ]
  },
  {
   "cell_type": "markdown",
   "id": "579e3c95",
   "metadata": {},
   "source": [
    "### Feature Selection/Extraction \n",
    "Define our features \n",
    "\n",
    "X: independent variables: gender,attr, sinc, intel, fun, amb, shar,like and match\n",
    "\n",
    "y: dependent variable(target/output):  dec: 0 or 1, ( match(1), Not Match (0) )\n",
    "\n",
    "dec represents wanting to be matched by 1 being a yes and 0 being a no. \n"
   ]
  },
  {
   "cell_type": "code",
   "execution_count": null,
   "id": "518801cd",
   "metadata": {},
   "outputs": [],
   "source": [
    "# Create our features  which are the 6 attributes that each particpant scores their partner on. \n",
    "X = date_df.drop(labels=['dec',\"gender\", \"race\"], axis=1)\n",
    "\n",
    "# Create our target which is the output we want which is the dec made that will determine a match. \n",
    "y = date_df.dec"
   ]
  },
  {
   "cell_type": "code",
   "execution_count": null,
   "id": "a4b8a8b8",
   "metadata": {
    "scrolled": true
   },
   "outputs": [],
   "source": [
    "X.describe()\n",
    "X.columns"
   ]
  },
  {
   "cell_type": "code",
   "execution_count": null,
   "id": "ef4e867e",
   "metadata": {},
   "outputs": [],
   "source": [
    "# Check the balance of our target values\n",
    "y.value_counts()"
   ]
  },
  {
   "cell_type": "markdown",
   "id": "a07d90b9",
   "metadata": {},
   "source": [
    "### Train-Test-Split\n",
    "Now, that Data is defined, we will split the data. what we want is the training data at (80%) and the Testing Data at (20%) so we can train our model"
   ]
  },
  {
   "cell_type": "code",
   "execution_count": null,
   "id": "772f18ca",
   "metadata": {},
   "outputs": [],
   "source": [
    "# Import counter and use train_test_split to split data into training and testing data\n",
    "from collections import Counter\n",
    "X_train, X_test, y_train, y_test,  = train_test_split(X, y, random_state=1, stratify=y)\n",
    "\n",
    "print(Counter(y_train))\n",
    "print(Counter(y_test))\n",
    "Counter({'Dec No ': 51352, 'Dec Yes': 260})"
   ]
  },
  {
   "cell_type": "markdown",
   "id": "c93a16fe",
   "metadata": {},
   "source": [
    "### Classification Model \n",
    "\n",
    "Building a model with several different algorithms to decide which one performs bes then we will choose a model and tune parameters to check for better performance. Her we used Logistic Regression, "
   ]
  },
  {
   "cell_type": "markdown",
   "id": "f29479cd",
   "metadata": {},
   "source": [
    "Train the Logistic Regression "
   ]
  },
  {
   "cell_type": "markdown",
   "id": "3bc18e20",
   "metadata": {},
   "source": [
    "#### Logistic Regression Algorithm  was choses because the dependent variable is has two outbuts (binary). . It is a predictive analysis and used to describe data and explain the realationship of the one dependent variable and oe or more independent variables. Will there be a match or not based on the independent variables. Uses the sigmoid function, which will always give values between 0 and 1. "
   ]
  },
  {
   "cell_type": "code",
   "execution_count": null,
   "id": "8178451b",
   "metadata": {},
   "outputs": [],
   "source": [
    "import statsmodels.api as sma\n",
    "from sklearn.linear_model import LogisticRegression\n",
    "model = LogisticRegression(solver=\"lbfgs\",random_state=1)\n",
    "model\n",
    "#train the data\n",
    "model.fit(X_train, y_train)\n"
   ]
  },
  {
   "cell_type": "code",
   "execution_count": null,
   "id": "08fb7249",
   "metadata": {},
   "outputs": [],
   "source": [
    "# Calculate Balanced accuracy score\n",
    "y_pred = model.predict(X_test)\n",
    "from sklearn.metrics import balanced_accuracy_score\n",
    "balanced_accuracy_score(y_test, y_pred) "
   ]
  },
  {
   "cell_type": "code",
   "execution_count": null,
   "id": "3ab02ab7",
   "metadata": {
    "scrolled": true
   },
   "outputs": [],
   "source": [
    "# Display the confusion matrix\n",
    "from sklearn.metrics import confusion_matrix\n",
    "matrix = confusion_matrix(y_test, y_pred)\n",
    "print(matrix)"
   ]
  },
  {
   "cell_type": "code",
   "execution_count": null,
   "id": "8937b1bd",
   "metadata": {
    "scrolled": false
   },
   "outputs": [],
   "source": [
    "# Print the imbalanced classification report\n",
    "from imblearn.metrics import classification_report_imbalanced\n",
    "report = classification_report_imbalanced(y_test, y_pred)\n",
    "print(report)"
   ]
  },
  {
   "cell_type": "markdown",
   "id": "9f05c607",
   "metadata": {},
   "source": [
    "#### Resample Data to see if their is any change in accuracy\n",
    "\n",
    "We used a resampling tool to balance our dataset. I resampled the data with  with SMOTEEN because many researchers suggest combining oversampling and undersampling methods to balance the dataset  is better. and re ran the Logistic Regression again to see if different results, Balanced Random Forest, Random Forest. \n"
   ]
  },
  {
   "cell_type": "code",
   "execution_count": null,
   "id": "3cdcd8e0",
   "metadata": {},
   "outputs": [],
   "source": [
    "# Resample the training data with SMOTEENN\n",
    "from imblearn.combine import SMOTEENN\n",
    "smote_enn = SMOTEENN(random_state = 1)\n",
    "X_resampled,y_resampled = smote_enn.fit_resample(X,y)\n",
    "print(Counter(y_resampled))"
   ]
  },
  {
   "cell_type": "code",
   "execution_count": null,
   "id": "a287d064",
   "metadata": {},
   "outputs": [],
   "source": [
    "# Train the Logistic Regression model using the resampled data\n",
    "from sklearn.linear_model import LogisticRegression\n",
    "model = LogisticRegression(solver=\"lbfgs\",random_state=1)\n",
    "model\n",
    "\n",
    "#train the data\n",
    "model.fit(X_train, y_train)"
   ]
  },
  {
   "cell_type": "code",
   "execution_count": null,
   "id": "a92ef42e",
   "metadata": {},
   "outputs": [],
   "source": [
    "# Calculate Balanced accuracy score\n",
    "y_pred = model.predict(X_test)\n",
    "from sklearn.metrics import balanced_accuracy_score\n",
    "balanced_accuracy_score(y_test, y_pred) "
   ]
  },
  {
   "cell_type": "code",
   "execution_count": null,
   "id": "7bb416ce",
   "metadata": {},
   "outputs": [],
   "source": [
    "# Print the imbalanced classification report\n",
    "from imblearn.metrics import classification_report_imbalanced\n",
    "report = classification_report_imbalanced(y_test, y_pred)\n",
    "print(report)"
   ]
  },
  {
   "cell_type": "markdown",
   "id": "52eef0a8",
   "metadata": {},
   "source": [
    "Resampling the data showed no impovement or decline in the accuracy score. "
   ]
  },
  {
   "cell_type": "markdown",
   "id": "9dd46b0c",
   "metadata": {},
   "source": [
    "The random forest classifier is a supervised learning algorithm which you can use for regression and classification problems. It is among the most popular machine learning algorithms due to its high flexibility and ease of implementation. It is a highly accurate algorithm, which works on the priciple of Decision Tree Classification. \n"
   ]
  },
  {
   "cell_type": "code",
   "execution_count": null,
   "id": "fe88aa63",
   "metadata": {},
   "outputs": [],
   "source": [
    "from sklearn.ensemble import RandomForestClassifier\n",
    "rf = RandomForestClassifier(n_estimators=100, max_depth=2, random_state=0)\n",
    "rf.fit(X_train, y_train)\n",
    "\n",
    "y_pred = rf.predict(X_test)\n",
    "\n",
    "print(\"Accuracy: \" + str(rf.score(X_test, y_test)))"
   ]
  },
  {
   "cell_type": "markdown",
   "id": "05bc4441",
   "metadata": {},
   "source": [
    "Train with an Ensemble Learner\n",
    " Balanced Random Forest Classifier "
   ]
  },
  {
   "cell_type": "code",
   "execution_count": null,
   "id": "5bc17cac",
   "metadata": {},
   "outputs": [],
   "source": [
    "# Resample the training data with the BalancedRandomForestClassifier with 100 estimators\n",
    "from imblearn.ensemble import BalancedRandomForestClassifier\n",
    "#from sklearn.datasets import make_classification\n",
    "model = BalancedRandomForestClassifier(n_estimators=100, random_state=1)\n",
    "#train the data\n",
    "model.fit(X_train,y_train)"
   ]
  },
  {
   "cell_type": "code",
   "execution_count": null,
   "id": "d99f662e",
   "metadata": {},
   "outputs": [],
   "source": [
    "# Calculated the balanced accuracy score\n",
    "from sklearn.metrics import balanced_accuracy_score\n",
    "y_pred = model.predict(X_test)\n",
    "balanced_accuracy_score(y_test, y_pred)"
   ]
  },
  {
   "cell_type": "code",
   "execution_count": null,
   "id": "d22348dd",
   "metadata": {
    "scrolled": true
   },
   "outputs": [],
   "source": [
    "# Display the confusion matrix\n",
    "from sklearn.metrics import confusion_matrix\n",
    "matrix = confusion_matrix(y_test, y_pred)\n",
    "print(matrix)"
   ]
  },
  {
   "cell_type": "code",
   "execution_count": null,
   "id": "4a2640a4",
   "metadata": {
    "scrolled": true
   },
   "outputs": [],
   "source": [
    "# Print the imbalanced classification report\n",
    "from imblearn.metrics import classification_report_imbalanced\n",
    "report = classification_report_imbalanced(y_test, y_pred)\n",
    "print(report)"
   ]
  },
  {
   "cell_type": "code",
   "execution_count": null,
   "id": "b649ab29",
   "metadata": {
    "scrolled": false
   },
   "outputs": [],
   "source": [
    "# List the features sorted in descending order by feature importance\n",
    "# Calculate feature importance in the Random Forest model.\n",
    "importances = model.feature_importances_\n",
    "importances\n",
    "# We can sort the features by their importance.\n",
    "sorted(zip(model.feature_importances_, X.columns), reverse=True)"
   ]
  },
  {
   "cell_type": "markdown",
   "id": "765abf31",
   "metadata": {},
   "source": [
    "The ensemble classifier did not improve our accuracy score however we were able to view the importance of our features We see attractiveness is the most preferred amongst the participants with intelligience being the least of the 6 characteristics the participants score on. "
   ]
  },
  {
   "cell_type": "markdown",
   "id": "17bfb0aa",
   "metadata": {},
   "source": [
    "We received a better score with Random Forest algorithm but in reality they all are around the same with 80% accuracy but Random Forest Classifier algorithm gave us 81% accuracy. "
   ]
  }
 ],
 "metadata": {
  "kernelspec": {
   "display_name": "PythonData",
   "language": "python",
   "name": "pythondata"
  },
  "language_info": {
   "codemirror_mode": {
    "name": "ipython",
    "version": 3
   },
   "file_extension": ".py",
   "mimetype": "text/x-python",
   "name": "python",
   "nbconvert_exporter": "python",
   "pygments_lexer": "ipython3",
   "version": "3.7.11"
  }
 },
 "nbformat": 4,
 "nbformat_minor": 5
}
